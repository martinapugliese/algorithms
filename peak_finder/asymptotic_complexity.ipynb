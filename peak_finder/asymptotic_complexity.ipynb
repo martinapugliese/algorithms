{
 "cells": [
  {
   "cell_type": "code",
   "execution_count": 3,
   "id": "826a0457-df44-4269-933f-2eb25bd2ec3d",
   "metadata": {
    "execution": {
     "iopub.execute_input": "2022-05-30T13:54:24.905764Z",
     "iopub.status.busy": "2022-05-30T13:54:24.904784Z",
     "iopub.status.idle": "2022-05-30T13:54:24.977857Z",
     "shell.execute_reply": "2022-05-30T13:54:24.973173Z",
     "shell.execute_reply.started": "2022-05-30T13:54:24.905695Z"
    },
    "tags": []
   },
   "outputs": [],
   "source": [
    "import time\n",
    "import numpy as np\n",
    "import random\n",
    "from matplotlib import pyplot as plt\n",
    "\n",
    "from peak_finder import *\n",
    "\n",
    "%load_ext autoreload\n",
    "%autoreload 2"
   ]
  },
  {
   "cell_type": "markdown",
   "id": "5f6aede1-92bd-43e6-be50-2578476d4e6c",
   "metadata": {},
   "source": [
    "# Peak finding: asymptotic complexity"
   ]
  },
  {
   "cell_type": "markdown",
   "id": "d7089d80-c001-4b19-bc4a-5d94f2c4f038",
   "metadata": {
    "execution": {
     "iopub.execute_input": "2022-05-12T07:57:08.243668Z",
     "iopub.status.busy": "2022-05-12T07:57:08.242805Z",
     "iopub.status.idle": "2022-05-12T07:57:08.305300Z",
     "shell.execute_reply": "2022-05-12T07:57:08.300561Z",
     "shell.execute_reply.started": "2022-05-12T07:57:08.243605Z"
    },
    "tags": []
   },
   "source": [
    "## Basic algo: walking the array\n",
    "\n",
    "This just checks element by element, from the start, until it finds a local peak."
   ]
  },
  {
   "cell_type": "code",
   "execution_count": 4,
   "id": "729f7e26-4901-4947-8d83-06e60adea93b",
   "metadata": {
    "execution": {
     "iopub.execute_input": "2022-05-30T13:54:26.388441Z",
     "iopub.status.busy": "2022-05-30T13:54:26.388107Z",
     "iopub.status.idle": "2022-05-30T13:54:26.469269Z",
     "shell.execute_reply": "2022-05-30T13:54:26.444632Z",
     "shell.execute_reply.started": "2022-05-30T13:54:26.388410Z"
    },
    "tags": []
   },
   "outputs": [
    {
     "data": {
      "text/plain": [
       "1"
      ]
     },
     "execution_count": 4,
     "metadata": {},
     "output_type": "execute_result"
    }
   ],
   "source": [
    "# check on one array\n",
    "arr = np.array([0,2,1,4,5,6])\n",
    "\n",
    "find_peak_walking(arr)"
   ]
  },
  {
   "cell_type": "code",
   "execution_count": 5,
   "id": "cc7b3b50-c9b7-4738-b152-fa701f2116d5",
   "metadata": {
    "execution": {
     "iopub.execute_input": "2022-05-30T13:54:26.637282Z",
     "iopub.status.busy": "2022-05-30T13:54:26.636791Z",
     "iopub.status.idle": "2022-05-30T13:54:26.679701Z",
     "shell.execute_reply": "2022-05-30T13:54:26.674950Z",
     "shell.execute_reply.started": "2022-05-30T13:54:26.637248Z"
    },
    "tags": []
   },
   "outputs": [],
   "source": [
    "# complexity: tests on increasing input size\n",
    "\n",
    "n = 1000\n",
    "arr = np.random.randint(1, high=n, size=n)"
   ]
  },
  {
   "cell_type": "code",
   "execution_count": 6,
   "id": "25bd7b72-5549-4550-a081-4db303267ca6",
   "metadata": {
    "execution": {
     "iopub.execute_input": "2022-05-30T13:54:27.254257Z",
     "iopub.status.busy": "2022-05-30T13:54:27.253515Z",
     "iopub.status.idle": "2022-05-30T13:54:27.305567Z",
     "shell.execute_reply": "2022-05-30T13:54:27.302383Z",
     "shell.execute_reply.started": "2022-05-30T13:54:27.254218Z"
    },
    "tags": []
   },
   "outputs": [
    {
     "name": "stdout",
     "output_type": "stream",
     "text": [
      "CPU times: user 12 µs, sys: 1 µs, total: 13 µs\n",
      "Wall time: 20 µs\n"
     ]
    }
   ],
   "source": [
    "%%time\n",
    "\n",
    "_ = find_peak_walking(arr)"
   ]
  },
  {
   "cell_type": "markdown",
   "id": "e719807c-7856-4415-811f-5c49d19bac46",
   "metadata": {},
   "source": [
    "### Compute the complexity with a random array\n",
    "\n",
    "The time the algo takes will be averaged over 100 copies of a random array of fixed size."
   ]
  },
  {
   "cell_type": "code",
   "execution_count": 7,
   "id": "a2b47d60-28d2-4bd5-99c6-67b123640112",
   "metadata": {
    "execution": {
     "iopub.execute_input": "2022-05-30T13:54:27.610523Z",
     "iopub.status.busy": "2022-05-30T13:54:27.609804Z",
     "iopub.status.idle": "2022-05-30T13:54:44.779566Z",
     "shell.execute_reply": "2022-05-30T13:54:44.778784Z",
     "shell.execute_reply.started": "2022-05-30T13:54:27.610486Z"
    },
    "tags": []
   },
   "outputs": [],
   "source": [
    "d = {}\n",
    "\n",
    "sizes = [10,100,1000,10000,100000, 1000000, 10000000]\n",
    "for n in sizes:\n",
    "    l_ = []\n",
    "    for i in range(100):\n",
    "        start_time = time.time()\n",
    "        arr = np.random.randint(1, high=n, size=n)\n",
    "        find_peak_walking(arr)\n",
    "        l_.append(time.time() - start_time)\n",
    "    d[n] = np.mean(l_)"
   ]
  },
  {
   "cell_type": "code",
   "execution_count": 8,
   "id": "d69b640f-537c-48b1-8d54-74acd80ef19b",
   "metadata": {
    "execution": {
     "iopub.execute_input": "2022-05-30T13:54:44.782496Z",
     "iopub.status.busy": "2022-05-30T13:54:44.782079Z",
     "iopub.status.idle": "2022-05-30T13:54:44.892960Z",
     "shell.execute_reply": "2022-05-30T13:54:44.892210Z",
     "shell.execute_reply.started": "2022-05-30T13:54:44.782454Z"
    },
    "tags": []
   },
   "outputs": [],
   "source": [
    "#d"
   ]
  },
  {
   "cell_type": "markdown",
   "id": "366a151c-3a2b-4332-a61f-5ecce8de84b3",
   "metadata": {
    "execution": {
     "iopub.execute_input": "2022-05-30T13:55:06.694674Z",
     "iopub.status.busy": "2022-05-30T13:55:06.693673Z",
     "iopub.status.idle": "2022-05-30T13:55:06.720802Z",
     "shell.execute_reply": "2022-05-30T13:55:06.719939Z",
     "shell.execute_reply.started": "2022-05-30T13:55:06.694624Z"
    }
   },
   "source": [
    "### Plot the asymptotic complexity"
   ]
  },
  {
   "cell_type": "code",
   "execution_count": 10,
   "id": "014d2389-f699-4e6c-8675-c2804f5f6d56",
   "metadata": {
    "execution": {
     "iopub.execute_input": "2022-05-30T13:54:53.428011Z",
     "iopub.status.busy": "2022-05-30T13:54:53.427353Z",
     "iopub.status.idle": "2022-05-30T13:54:53.812935Z",
     "shell.execute_reply": "2022-05-30T13:54:53.808617Z",
     "shell.execute_reply.started": "2022-05-30T13:54:53.427954Z"
    },
    "tags": []
   },
   "outputs": [
    {
     "data": {
      "image/png": "[encoded data removed]",
      "text/plain": [
       "<Figure size 432x288 with 1 Axes>"
      ]
     },
     "metadata": {
      "needs_background": "light"
     },
     "output_type": "display_data"
    }
   ],
   "source": [
    "plt.plot(d.keys(), d.values())\n",
    "\n",
    "plt.title('Basic algorithm: asymptotic complexity')\n",
    "plt.xlabel('n (input size)')\n",
    "plt.ylabel('Time')\n",
    "plt.show()"
   ]
  },
  {
   "cell_type": "markdown",
   "id": "a949e371-c861-4ba8-842f-648e45ecf251",
   "metadata": {},
   "source": [
    "# Better algo: recursive with binary search approach\n",
    "\n",
    "This approach looks at the element in the middle of the array and checks if it's a local max. If it isn't, it splits the array in two and does the same on a half of it, then proceeds recursively."
   ]
  },
  {
   "cell_type": "code",
   "execution_count": 12,
   "id": "b24c50a9-00ee-4a89-abbf-689c0a613f26",
   "metadata": {
    "execution": {
     "iopub.execute_input": "2022-05-30T13:55:12.637419Z",
     "iopub.status.busy": "2022-05-30T13:55:12.637081Z",
     "iopub.status.idle": "2022-05-30T13:55:12.691957Z",
     "shell.execute_reply": "2022-05-30T13:55:12.686455Z",
     "shell.execute_reply.started": "2022-05-30T13:55:12.637388Z"
    },
    "tags": []
   },
   "outputs": [
    {
     "data": {
      "text/plain": [
       "6"
      ]
     },
     "execution_count": 12,
     "metadata": {},
     "output_type": "execute_result"
    }
   ],
   "source": [
    "# check on one array\n",
    "arr = np.array([0,2,1,4,5,6])\n",
    "\n",
    "find_peak_binary_search(arr)"
   ]
  },
  {
   "cell_type": "code",
   "execution_count": 13,
   "id": "8267cae1-9d2a-47f0-833d-e29a2854253a",
   "metadata": {
    "execution": {
     "iopub.execute_input": "2022-05-30T13:55:14.179036Z",
     "iopub.status.busy": "2022-05-30T13:55:14.178588Z",
     "iopub.status.idle": "2022-05-30T13:55:14.272741Z",
     "shell.execute_reply": "2022-05-30T13:55:14.271034Z",
     "shell.execute_reply.started": "2022-05-30T13:55:14.179001Z"
    },
    "tags": []
   },
   "outputs": [
    {
     "data": {
      "text/plain": [
       "2"
      ]
     },
     "execution_count": 13,
     "metadata": {},
     "output_type": "execute_result"
    }
   ],
   "source": [
    "# check on one array\n",
    "arr = np.array([2,1])\n",
    "\n",
    "find_peak_binary_search(arr)"
   ]
  },
  {
   "cell_type": "code",
   "execution_count": 14,
   "id": "06d1bd8b-88fb-4f68-aaa5-18373246a6b9",
   "metadata": {
    "execution": {
     "iopub.execute_input": "2022-05-30T13:55:15.917422Z",
     "iopub.status.busy": "2022-05-30T13:55:15.917087Z",
     "iopub.status.idle": "2022-05-30T13:55:15.946840Z",
     "shell.execute_reply": "2022-05-30T13:55:15.945506Z",
     "shell.execute_reply.started": "2022-05-30T13:55:15.917391Z"
    },
    "tags": []
   },
   "outputs": [
    {
     "name": "stdout",
     "output_type": "stream",
     "text": [
      "CPU times: user 10 µs, sys: 1e+03 ns, total: 11 µs\n",
      "Wall time: 11.9 µs\n"
     ]
    }
   ],
   "source": [
    "%%time\n",
    "\n",
    "_ = find_peak_binary_search(arr)"
   ]
  },
  {
   "cell_type": "markdown",
   "id": "66d1b579-6c24-44c1-b758-89b2e5f2cfd6",
   "metadata": {},
   "source": [
    "### Run both algos on the same (random) array of fixed size\n",
    "\n",
    "This is done with arrays of increasing size."
   ]
  },
  {
   "cell_type": "code",
   "execution_count": 15,
   "id": "a17634ee-b873-4e7c-8b5a-90131e83d2b6",
   "metadata": {
    "execution": {
     "iopub.execute_input": "2022-05-30T13:56:10.075744Z",
     "iopub.status.busy": "2022-05-30T13:56:10.075272Z",
     "iopub.status.idle": "2022-05-30T13:56:28.299097Z",
     "shell.execute_reply": "2022-05-30T13:56:28.298373Z",
     "shell.execute_reply.started": "2022-05-30T13:56:10.075706Z"
    },
    "tags": []
   },
   "outputs": [],
   "source": [
    "d_walk, d_bins = {}, {}\n",
    "\n",
    "sizes = [100,1000,10000,100000, 1000000, 10000000]\n",
    "for n in sizes:\n",
    "    l_walk, l_bin = [], []\n",
    "    for i in range(100):\n",
    "        start_time = time.time()\n",
    "        \n",
    "        arr = np.random.randint(1, high=n, size=n)\n",
    "        \n",
    "        find_peak_walking(arr)\n",
    "        t_walk = time.time()\n",
    "        l_walk.append(t_walk - start_time)\n",
    "        \n",
    "        find_peak_binary_search(arr)\n",
    "        l_bin.append(time.time() - t_walk)\n",
    "        \n",
    "    d_walk[n] = np.mean(l_walk)\n",
    "    d_bins[n] = np.mean(l_bin)"
   ]
  },
  {
   "cell_type": "markdown",
   "id": "cb61e9e3-c16c-4281-a6b7-2cbd174a3e4e",
   "metadata": {},
   "source": [
    "### Plot the asymptotic complexity of both"
   ]
  },
  {
   "cell_type": "code",
   "execution_count": 16,
   "id": "aee7a0de-e8f6-4907-ba29-2457ec143bf1",
   "metadata": {
    "execution": {
     "iopub.execute_input": "2022-05-30T14:01:01.199079Z",
     "iopub.status.busy": "2022-05-30T14:01:01.198745Z",
     "iopub.status.idle": "2022-05-30T14:01:01.466856Z",
     "shell.execute_reply": "2022-05-30T14:01:01.465479Z",
     "shell.execute_reply.started": "2022-05-30T14:01:01.199046Z"
    },
    "tags": []
   },
   "outputs": [
    {
     "data": {
      "image/png": "[encoded data removed]",
      "text/plain": [
       "<Figure size 432x288 with 1 Axes>"
      ]
     },
     "metadata": {
      "needs_background": "light"
     },
     "output_type": "display_data"
    }
   ],
   "source": [
    "plt.plot(d_walk.keys(), d_walk.values(), label='walk')\n",
    "plt.plot(d_walk.keys(), d_bins.values(), label='bins')\n",
    "\n",
    "plt.title('Binary search vs. approach algorithm: asymptotic complexity')\n",
    "plt.xlabel('n (input size)')\n",
    "plt.ylabel('Time')\n",
    "plt.legend()\n",
    "plt.show()"
   ]
  },
  {
   "cell_type": "code",
   "execution_count": 17,
   "id": "43dff90d-a717-4b6e-9566-a5065429e7dc",
   "metadata": {
    "execution": {
     "iopub.execute_input": "2022-05-30T14:01:05.858883Z",
     "iopub.status.busy": "2022-05-30T14:01:05.858538Z",
     "iopub.status.idle": "2022-05-30T14:01:05.904013Z",
     "shell.execute_reply": "2022-05-30T14:01:05.901878Z",
     "shell.execute_reply.started": "2022-05-30T14:01:05.858852Z"
    },
    "tags": []
   },
   "outputs": [
    {
     "data": {
      "text/plain": [
       "({100: 1.704692840576172e-05,\n",
       "  1000: 6.131887435913086e-05,\n",
       "  10000: 0.00033766984939575194,\n",
       "  100000: 0.0012755036354064942,\n",
       "  1000000: 0.005836184024810791,\n",
       "  10000000: 0.17426934003829955},\n",
       " {100: 3.6478042602539064e-06,\n",
       "  1000: 4.4012069702148436e-05,\n",
       "  10000: 1.5006065368652343e-05,\n",
       "  100000: 8.983612060546875e-06,\n",
       "  1000000: 2.1715164184570312e-05,\n",
       "  10000000: 2.1617412567138672e-05})"
      ]
     },
     "execution_count": 17,
     "metadata": {},
     "output_type": "execute_result"
    }
   ],
   "source": [
    "d_walk, d_bins"
   ]
  },
  {
   "cell_type": "markdown",
   "id": "2df710ab-20e7-49e9-8a59-4289aa574498",
   "metadata": {},
   "source": [
    "### Do the same but in the worst case scenario\n",
    "\n",
    "That is, with arrays where the max is always at the end - no need to average here."
   ]
  },
  {
   "cell_type": "code",
   "execution_count": 37,
   "id": "a97b79d9-b241-425d-9043-1bbce1413f0f",
   "metadata": {
    "execution": {
     "iopub.execute_input": "2022-05-30T14:16:29.124983Z",
     "iopub.status.busy": "2022-05-30T14:16:29.124649Z",
     "iopub.status.idle": "2022-05-30T14:16:37.070651Z",
     "shell.execute_reply": "2022-05-30T14:16:37.069199Z",
     "shell.execute_reply.started": "2022-05-30T14:16:29.124952Z"
    },
    "tags": []
   },
   "outputs": [],
   "source": [
    "d_walk, d_bins = {}, {}\n",
    "\n",
    "sizes = [100,1000,10000,100000, 1000000, 10000000]\n",
    "for n in sizes:\n",
    "\n",
    "    start_time = time.time()\n",
    "\n",
    "    arr = range(n)\n",
    "\n",
    "    find_peak_walking(arr)\n",
    "    t_walk = time.time()\n",
    "    d_walk[n] = t_walk - start_time\n",
    "\n",
    "    find_peak_binary_search(arr)\n",
    "    d_bins[n] = time.time() - t_walk"
   ]
  },
  {
   "cell_type": "code",
   "execution_count": 38,
   "id": "2c37d84c-3328-4dea-acad-81e33c765f18",
   "metadata": {
    "execution": {
     "iopub.execute_input": "2022-05-30T14:16:37.072746Z",
     "iopub.status.busy": "2022-05-30T14:16:37.072432Z",
     "iopub.status.idle": "2022-05-30T14:16:37.127029Z",
     "shell.execute_reply": "2022-05-30T14:16:37.123696Z",
     "shell.execute_reply.started": "2022-05-30T14:16:37.072721Z"
    },
    "tags": []
   },
   "outputs": [
    {
     "data": {
      "text/plain": [
       "({100: 5.602836608886719e-05,\n",
       "  1000: 0.0006148815155029297,\n",
       "  10000: 0.008938789367675781,\n",
       "  100000: 0.12904024124145508,\n",
       "  1000000: 0.6401329040527344,\n",
       "  10000000: 7.139518976211548},\n",
       " {100: 1.0013580322265625e-05,\n",
       "  1000: 1.9073486328125e-05,\n",
       "  10000: 7.724761962890625e-05,\n",
       "  100000: 3.886222839355469e-05,\n",
       "  1000000: 4.029273986816406e-05,\n",
       "  10000000: 7.677078247070312e-05})"
      ]
     },
     "execution_count": 38,
     "metadata": {},
     "output_type": "execute_result"
    }
   ],
   "source": [
    "d_walk, d_bins"
   ]
  },
  {
   "cell_type": "code",
   "execution_count": 39,
   "id": "2438ff9d-214e-4dee-949d-a3485da0a6e7",
   "metadata": {
    "execution": {
     "iopub.execute_input": "2022-05-30T14:16:37.134688Z",
     "iopub.status.busy": "2022-05-30T14:16:37.131562Z",
     "iopub.status.idle": "2022-05-30T14:16:37.219178Z",
     "shell.execute_reply": "2022-05-30T14:16:37.212869Z",
     "shell.execute_reply.started": "2022-05-30T14:16:37.134625Z"
    },
    "tags": []
   },
   "outputs": [
    {
     "data": {
      "text/plain": [
       "9.965784284662087"
      ]
     },
     "execution_count": 39,
     "metadata": {},
     "output_type": "execute_result"
    }
   ],
   "source": [
    "np.log2(1000)"
   ]
  },
  {
   "cell_type": "code",
   "execution_count": 45,
   "id": "77d0a9f4-fdf1-49b9-a258-c8e8ab9ce097",
   "metadata": {
    "execution": {
     "iopub.execute_input": "2022-05-30T14:17:16.601044Z",
     "iopub.status.busy": "2022-05-30T14:17:16.600711Z",
     "iopub.status.idle": "2022-05-30T14:17:16.856668Z",
     "shell.execute_reply": "2022-05-30T14:17:16.855171Z",
     "shell.execute_reply.started": "2022-05-30T14:17:16.601015Z"
    },
    "tags": []
   },
   "outputs": [
    {
     "data": {
      "image/png": "[encoded data removed]",
      "text/plain": [
       "<Figure size 432x288 with 1 Axes>"
      ]
     },
     "metadata": {
      "needs_background": "light"
     },
     "output_type": "display_data"
    }
   ],
   "source": [
    "plt.plot(d_walk.keys(), d_walk.values(), label='walk')\n",
    "plt.plot(d_walk.keys(), d_bins.values(), label='bins')\n",
    "\n",
    "plt.title('Binary search vs. approach algorithm: asymptotic complexity')\n",
    "plt.xlabel('n (input size)')\n",
    "plt.ylabel('Time')\n",
    "plt.legend()\n",
    "plt.show()"
   ]
  },
  {
   "cell_type": "code",
   "execution_count": 42,
   "id": "4aeb1a56-8156-4c6e-bf83-073e01173363",
   "metadata": {
    "execution": {
     "iopub.execute_input": "2022-05-30T14:16:45.889904Z",
     "iopub.status.busy": "2022-05-30T14:16:45.889445Z",
     "iopub.status.idle": "2022-05-30T14:16:45.935518Z",
     "shell.execute_reply": "2022-05-30T14:16:45.923825Z",
     "shell.execute_reply.started": "2022-05-30T14:16:45.889860Z"
    },
    "tags": []
   },
   "outputs": [
    {
     "data": {
      "text/plain": [
       "{0.00037224440684248454,\n",
       " 0.006127776544128304,\n",
       " 0.11877606213905047,\n",
       " 2.1433120137551627,\n",
       " 12.758852870607688,\n",
       " 166.0187806974102}"
      ]
     },
     "execution_count": 42,
     "metadata": {},
     "output_type": "execute_result"
    }
   ],
   "source": [
    "{d_walk[n]* np.log2(n) for n in d_walk}"
   ]
  },
  {
   "cell_type": "code",
   "execution_count": 43,
   "id": "88ee77aa-931d-42ff-afc5-a94da16a5d8f",
   "metadata": {
    "execution": {
     "iopub.execute_input": "2022-05-30T14:16:49.929807Z",
     "iopub.status.busy": "2022-05-30T14:16:49.929460Z",
     "iopub.status.idle": "2022-05-30T14:16:49.964820Z",
     "shell.execute_reply": "2022-05-30T14:16:49.957322Z",
     "shell.execute_reply.started": "2022-05-30T14:16:49.929778Z"
    },
    "tags": []
   },
   "outputs": [
    {
     "data": {
      "text/plain": [
       "{100: 1.0013580322265625e-05,\n",
       " 1000: 1.9073486328125e-05,\n",
       " 10000: 7.724761962890625e-05,\n",
       " 100000: 3.886222839355469e-05,\n",
       " 1000000: 4.029273986816406e-05,\n",
       " 10000000: 7.677078247070312e-05}"
      ]
     },
     "execution_count": 43,
     "metadata": {},
     "output_type": "execute_result"
    }
   ],
   "source": [
    "d_bins"
   ]
  },
  {
   "cell_type": "code",
   "execution_count": null,
   "id": "c1d7f3d9-82a9-408e-a7c2-ecb7b58c3103",
   "metadata": {},
   "outputs": [],
   "source": []
  }
 ],
 "metadata": {
  "kernelspec": {
   "display_name": "Python 3 (ipykernel)",
   "language": "python",
   "name": "python3"
  },
  "language_info": {
   "codemirror_mode": {
    "name": "ipython",
    "version": 3
   },
   "file_extension": ".py",
   "mimetype": "text/x-python",
   "name": "python",
   "nbconvert_exporter": "python",
   "pygments_lexer": "ipython3",
   "version": "3.9.6"
  }
 },
 "nbformat": 4,
 "nbformat_minor": 5
}
